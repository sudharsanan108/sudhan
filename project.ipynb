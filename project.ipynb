{
 "cells": [
  {
   "cell_type": "code",
   "execution_count": 3,
   "id": "b4e63de2-8878-4eb5-992f-0899fbf4e65c",
   "metadata": {},
   "outputs": [
    {
     "name": "stdout",
     "output_type": "stream",
     "text": [
      "Welcome to the  Password Validator!\n"
     ]
    },
    {
     "name": "stdin",
     "output_type": "stream",
     "text": [
      "Please enter a password:  ········\n"
     ]
    },
    {
     "name": "stdout",
     "output_type": "stream",
     "text": [
      "Password is valid.\n",
      "Password Strength: Strong\n"
     ]
    }
   ],
   "source": [
    "import re\n",
    "import getpass\n",
    "def validate_password(password):\n",
    "    score = 0\n",
    "    feedback = []\n",
    "    if len(password) < 8:\n",
    "        feedback.append(\"Password must be at least 8 characters long.\")\n",
    "    else:\n",
    "        score += 1\n",
    "    if not re.search(r'[A-Z]', password):\n",
    "        feedback.append(\"Password must contain at least one uppercase letter.\")\n",
    "    else:\n",
    "        score += 1\n",
    "    if not re.search(r'[a-z]', password):\n",
    "        feedback.append(\"Password must contain at least one lowercase letter.\")\n",
    "    else:\n",
    "        score += 1\n",
    "\n",
    "    if not re.search(r'\\d', password):\n",
    "        feedback.append(\"Password must contain at least one digit.\")\n",
    "    else:\n",
    "        score += 1\n",
    "    if not re.search(r'[!@#$%^&*(),.?\":{}|<>]', password):\n",
    "        feedback.append(\"Password must contain at least one special character.\")\n",
    "    else:\n",
    "        score += 1\n",
    "    if score <= 2:\n",
    "        strength = \"Weak\"\n",
    "    elif score == 3 or score == 4:\n",
    "        strength = \"Medium\"\n",
    "    else:\n",
    "        strength = \"Strong\"\n",
    "    if feedback:\n",
    "        return \"\\n\".join(feedback), strength\n",
    "    else:\n",
    "        return \"Password is valid.\", strength\n",
    "def password_validator():\n",
    "    print(\"Welcome to the  Password Validator!\")\n",
    "    password = getpass.getpass(\"Please enter a password: \")\n",
    "    result, strength = validate_password(password)\n",
    "    print(result)\n",
    "    print(f\"Password Strength: {strength}\")\n",
    "password_validator()"
   ]
  },
  {
   "cell_type": "code",
   "execution_count": null,
   "id": "fc0afd63-36e5-4ef6-b397-75b26d2d319e",
   "metadata": {},
   "outputs": [],
   "source": []
  }
 ],
 "metadata": {
  "kernelspec": {
   "display_name": "Python 3 (ipykernel)",
   "language": "python",
   "name": "python3"
  },
  "language_info": {
   "codemirror_mode": {
    "name": "ipython",
    "version": 3
   },
   "file_extension": ".py",
   "mimetype": "text/x-python",
   "name": "python",
   "nbconvert_exporter": "python",
   "pygments_lexer": "ipython3",
   "version": "3.12.4"
  }
 },
 "nbformat": 4,
 "nbformat_minor": 5
}
